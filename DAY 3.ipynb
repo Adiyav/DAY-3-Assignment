{
 "cells": [
  {
   "cell_type": "code",
   "execution_count": 2,
   "id": "1d610494",
   "metadata": {
    "scrolled": true
   },
   "outputs": [],
   "source": [
    "import pandas as pd\n",
    "import numpy as np"
   ]
  },
  {
   "cell_type": "code",
   "execution_count": 5,
   "id": "2775c0e5",
   "metadata": {
    "scrolled": true
   },
   "outputs": [
    {
     "data": {
      "text/html": [
       "<div>\n",
       "<style scoped>\n",
       "    .dataframe tbody tr th:only-of-type {\n",
       "        vertical-align: middle;\n",
       "    }\n",
       "\n",
       "    .dataframe tbody tr th {\n",
       "        vertical-align: top;\n",
       "    }\n",
       "\n",
       "    .dataframe thead th {\n",
       "        text-align: right;\n",
       "    }\n",
       "</style>\n",
       "<table border=\"1\" class=\"dataframe\">\n",
       "  <thead>\n",
       "    <tr style=\"text-align: right;\">\n",
       "      <th></th>\n",
       "      <th>C1</th>\n",
       "      <th>C2</th>\n",
       "      <th>C3</th>\n",
       "      <th>C4</th>\n",
       "    </tr>\n",
       "  </thead>\n",
       "  <tbody>\n",
       "    <tr>\n",
       "      <th>R1</th>\n",
       "      <td>-0.807508</td>\n",
       "      <td>-0.664438</td>\n",
       "      <td>-0.535982</td>\n",
       "      <td>-0.622515</td>\n",
       "    </tr>\n",
       "    <tr>\n",
       "      <th>R2</th>\n",
       "      <td>0.970793</td>\n",
       "      <td>-0.593677</td>\n",
       "      <td>0.016736</td>\n",
       "      <td>-0.603741</td>\n",
       "    </tr>\n",
       "    <tr>\n",
       "      <th>R3</th>\n",
       "      <td>-0.792436</td>\n",
       "      <td>0.863588</td>\n",
       "      <td>-1.449610</td>\n",
       "      <td>-0.144877</td>\n",
       "    </tr>\n",
       "    <tr>\n",
       "      <th>R4</th>\n",
       "      <td>-0.071281</td>\n",
       "      <td>-1.052406</td>\n",
       "      <td>-0.857965</td>\n",
       "      <td>0.137166</td>\n",
       "    </tr>\n",
       "    <tr>\n",
       "      <th>R5</th>\n",
       "      <td>0.701637</td>\n",
       "      <td>-0.568721</td>\n",
       "      <td>-0.134173</td>\n",
       "      <td>-0.705240</td>\n",
       "    </tr>\n",
       "  </tbody>\n",
       "</table>\n",
       "</div>"
      ],
      "text/plain": [
       "          C1        C2        C3        C4\n",
       "R1 -0.807508 -0.664438 -0.535982 -0.622515\n",
       "R2  0.970793 -0.593677  0.016736 -0.603741\n",
       "R3 -0.792436  0.863588 -1.449610 -0.144877\n",
       "R4 -0.071281 -1.052406 -0.857965  0.137166\n",
       "R5  0.701637 -0.568721 -0.134173 -0.705240"
      ]
     },
     "execution_count": 5,
     "metadata": {},
     "output_type": "execute_result"
    }
   ],
   "source": [
    "df=pd.DataFrame(np.random.randn(5,4),index=['R1','R2','R3','R4','R5'],columns=['C1','C2','C3','C4'])\n",
    "df.head()"
   ]
  },
  {
   "cell_type": "code",
   "execution_count": 7,
   "id": "073fadaf",
   "metadata": {},
   "outputs": [
    {
     "data": {
      "text/plain": [
       "R1   -0.535982\n",
       "R2    0.016736\n",
       "R3   -1.449610\n",
       "R4   -0.857965\n",
       "R5   -0.134173\n",
       "Name: C3, dtype: float64"
      ]
     },
     "execution_count": 7,
     "metadata": {},
     "output_type": "execute_result"
    }
   ],
   "source": [
    "df['C3']"
   ]
  },
  {
   "cell_type": "code",
   "execution_count": 8,
   "id": "0cddad0b",
   "metadata": {},
   "outputs": [
    {
     "data": {
      "text/plain": [
       "C1   -0.792436\n",
       "C2    0.863588\n",
       "C3   -1.449610\n",
       "C4   -0.144877\n",
       "Name: R3, dtype: float64"
      ]
     },
     "execution_count": 8,
     "metadata": {},
     "output_type": "execute_result"
    }
   ],
   "source": [
    "df.loc['R3']"
   ]
  },
  {
   "cell_type": "code",
   "execution_count": 9,
   "id": "612a751c",
   "metadata": {},
   "outputs": [
    {
     "data": {
      "text/html": [
       "<div>\n",
       "<style scoped>\n",
       "    .dataframe tbody tr th:only-of-type {\n",
       "        vertical-align: middle;\n",
       "    }\n",
       "\n",
       "    .dataframe tbody tr th {\n",
       "        vertical-align: top;\n",
       "    }\n",
       "\n",
       "    .dataframe thead th {\n",
       "        text-align: right;\n",
       "    }\n",
       "</style>\n",
       "<table border=\"1\" class=\"dataframe\">\n",
       "  <thead>\n",
       "    <tr style=\"text-align: right;\">\n",
       "      <th></th>\n",
       "      <th>C2</th>\n",
       "      <th>C3</th>\n",
       "      <th>C4</th>\n",
       "    </tr>\n",
       "  </thead>\n",
       "  <tbody>\n",
       "    <tr>\n",
       "      <th>R3</th>\n",
       "      <td>0.863588</td>\n",
       "      <td>-1.449610</td>\n",
       "      <td>-0.144877</td>\n",
       "    </tr>\n",
       "    <tr>\n",
       "      <th>R4</th>\n",
       "      <td>-1.052406</td>\n",
       "      <td>-0.857965</td>\n",
       "      <td>0.137166</td>\n",
       "    </tr>\n",
       "    <tr>\n",
       "      <th>R5</th>\n",
       "      <td>-0.568721</td>\n",
       "      <td>-0.134173</td>\n",
       "      <td>-0.705240</td>\n",
       "    </tr>\n",
       "  </tbody>\n",
       "</table>\n",
       "</div>"
      ],
      "text/plain": [
       "          C2        C3        C4\n",
       "R3  0.863588 -1.449610 -0.144877\n",
       "R4 -1.052406 -0.857965  0.137166\n",
       "R5 -0.568721 -0.134173 -0.705240"
      ]
     },
     "execution_count": 9,
     "metadata": {},
     "output_type": "execute_result"
    }
   ],
   "source": [
    "df.iloc[2:,1:]"
   ]
  },
  {
   "cell_type": "code",
   "execution_count": 10,
   "id": "f233139b",
   "metadata": {},
   "outputs": [
    {
     "data": {
      "text/plain": [
       "C1    0\n",
       "C2    0\n",
       "C3    0\n",
       "C4    0\n",
       "dtype: int64"
      ]
     },
     "execution_count": 10,
     "metadata": {},
     "output_type": "execute_result"
    }
   ],
   "source": [
    "df.isnull().sum()"
   ]
  },
  {
   "cell_type": "code",
   "execution_count": 11,
   "id": "3ef7b6a4",
   "metadata": {},
   "outputs": [
    {
     "data": {
      "text/plain": [
       "array([-0.80750816,  0.97079279, -0.79243633, -0.07128093,  0.70163678])"
      ]
     },
     "execution_count": 11,
     "metadata": {},
     "output_type": "execute_result"
    }
   ],
   "source": [
    "df['C1'].unique()"
   ]
  },
  {
   "cell_type": "code",
   "execution_count": 12,
   "id": "399142e2",
   "metadata": {},
   "outputs": [
    {
     "data": {
      "text/plain": [
       "C1    0.001204\n",
       "C2   -2.015654\n",
       "C3   -2.960994\n",
       "C4   -1.939208\n",
       "dtype: float64"
      ]
     },
     "execution_count": 12,
     "metadata": {},
     "output_type": "execute_result"
    }
   ],
   "source": [
    "df.sum()"
   ]
  },
  {
   "cell_type": "code",
   "execution_count": null,
   "id": "4d5dcf4e",
   "metadata": {},
   "outputs": [],
   "source": []
  }
 ],
 "metadata": {
  "kernelspec": {
   "display_name": "Python 3",
   "language": "python",
   "name": "python3"
  },
  "language_info": {
   "codemirror_mode": {
    "name": "ipython",
    "version": 3
   },
   "file_extension": ".py",
   "mimetype": "text/x-python",
   "name": "python",
   "nbconvert_exporter": "python",
   "pygments_lexer": "ipython3",
   "version": "3.8.8"
  }
 },
 "nbformat": 4,
 "nbformat_minor": 5
}
